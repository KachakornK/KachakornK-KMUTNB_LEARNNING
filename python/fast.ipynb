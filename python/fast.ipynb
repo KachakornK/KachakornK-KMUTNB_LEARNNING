{
 "cells": [
  {
   "cell_type": "code",
   "execution_count": 1,
   "metadata": {},
   "outputs": [],
   "source": [
    "\n",
    "from fastapi import HTTPException\n",
    "from pydantic import BaseModel\n",
    "from typing import List, Optional\n",
    "from fastapi_offline import FastAPIOffline as FastAPT\n",
    "\n",
    "app = FastAPT()\n",
    "\n",
    "\n",
    "@app.get(\"/\")\n",
    "async def root():\n",
    "    return {\"message\" : \"Hello World\"}"
   ]
  },
  {
   "cell_type": "code",
   "execution_count": 2,
   "metadata": {},
   "outputs": [],
   "source": [
    "class Book(BaseModel):\n",
    "    id      : int\n",
    "    title   : str\n",
    "    author  : str\n",
    "    year    : int\n",
    "\n",
    "books: List[Book] = []"
   ]
  },
  {
   "cell_type": "code",
   "execution_count": 3,
   "metadata": {},
   "outputs": [],
   "source": [
    "import sqlite3\n",
    "def get_db():\n",
    "    conn = sqlite3.connect('book.db')\n",
    "    conn.row_factory = sqlite3.Row\n",
    "    return conn\n",
    "\n",
    "def init_db():\n",
    "    conn = get_db()\n",
    "    cursor = conn.cursor()\n",
    "    cursor.execute(''' \n",
    "                    CREATE TABLE IF NOT EXISTS books(\n",
    "                   id INTEGER PRIMARY KEY,\n",
    "                   title TEXT NOT NULL,\n",
    "                   author TEXT NOT NULL,\n",
    "                   year INTEGER NOT NULL)\n",
    "                   ''')\n",
    "    conn.commit()\n",
    "    conn.close()\n",
    "\n",
    "@app.post(\"/bookdb\")\n",
    "async def add_db(book:Book):\n",
    "    conn = get_db()\n",
    "    cursor = conn.cursor()\n",
    "    cursor.execute(''' \n",
    "                INSERT INTO books\n",
    "                   (id,title, author, year)  \n",
    "                VALUES\n",
    "                   (?,?,?,?) ''',\n",
    "                   (book.id, book.title, book.author, book.year))\n",
    "    conn.commit()\n",
    "    conn.close()\n",
    "\n",
    "@app.get('/bookdb')\n",
    "async def get_bookdb():\n",
    "    conn = get_db()\n",
    "    cursor = conn.cursor()\n",
    "    cursor.execute(\"SELECT * FROM books\")\n",
    "    books = cursor.fetchall()\n",
    "\n",
    "    conn.close()\n",
    "    return[\n",
    "        Book (id=row['id'], title=row['title'], author=row['author'], year=row['year'])for row in books\n",
    "    ] \n",
    "\n",
    "@app.put('/bookdb')\n",
    "async def update_db(book:Book):\n",
    "    conn = get_db()\n",
    "    cursor = conn.cursor()\n",
    "    cursor.execute('''UPDATE books\n",
    "                   SET title = ?, author=?,year=?\n",
    "                   WHERE id =?''',\n",
    "                   (book.title, book.author, book.year,book.id))\n",
    "    conn.commit()\n",
    "    conn.close()\n",
    "    return {\"message\" : \"Book has been Update!\" + str(book.id), \"body\"    : book}\n",
    "\n",
    "@app.delete('/bookdb')\n",
    "async def delete_db(id : int):\n",
    "    conn = get_db()\n",
    "    cursor = conn.cursor()\n",
    "    cursor.execute('DELETE FROM books WHERE id = ?', (id,))\n",
    "    conn.commit()\n",
    "    if cursor.rowcount == 0:\n",
    "        conn.close()\n",
    "        raise HTTPException(status_code=404, detail=\"Book not Found\")\n",
    "    conn.close()\n",
    "    return{\"message\": \"BookID\" +str(id)+ \"is deleted\"}\n",
    "\n",
    "init_db()"
   ]
  },
  {
   "cell_type": "code",
   "execution_count": 5,
   "metadata": {},
   "outputs": [
    {
     "name": "stderr",
     "output_type": "stream",
     "text": [
      "INFO:     Started server process [7060]\n",
      "INFO:     Waiting for application startup.\n",
      "INFO:     Application startup complete.\n",
      "INFO:     Uvicorn running on http://127.0.0.1:8000 (Press CTRL+C to quit)\n"
     ]
    },
    {
     "name": "stdout",
     "output_type": "stream",
     "text": [
      "INFO:     127.0.0.1:62114 - \"GET / HTTP/1.1\" 200 OK\n",
      "INFO:     127.0.0.1:62114 - \"GET /favicon.ico HTTP/1.1\" 404 Not Found\n",
      "INFO:     127.0.0.1:62136 - \"GET /docs HTTP/1.1\" 200 OK\n",
      "INFO:     127.0.0.1:62137 - \"GET /static-offline-docs/swagger-ui-bundle.js HTTP/1.1\" 200 OK\n",
      "INFO:     127.0.0.1:62136 - \"GET /static-offline-docs/swagger-ui.css HTTP/1.1\" 200 OK\n",
      "INFO:     127.0.0.1:62137 - \"GET /openapi.json HTTP/1.1\" 200 OK\n",
      "INFO:     127.0.0.1:62137 - \"GET /static-offline-docs/favicon.png HTTP/1.1\" 200 OK\n",
      "INFO:     127.0.0.1:62224 - \"GET / HTTP/1.1\" 200 OK\n",
      "INFO:     127.0.0.1:62236 - \"POST /bookdb HTTP/1.1\" 200 OK\n",
      "INFO:     127.0.0.1:62241 - \"DELETE /bookdb?id=1 HTTP/1.1\" 200 OK\n",
      "INFO:     127.0.0.1:62244 - \"GET /bookdb HTTP/1.1\" 200 OK\n",
      "INFO:     127.0.0.1:62254 - \"POST /bookdb HTTP/1.1\" 200 OK\n",
      "INFO:     127.0.0.1:62257 - \"PUT /bookdb HTTP/1.1\" 200 OK\n",
      "INFO:     127.0.0.1:62265 - \"PUT /bookdb HTTP/1.1\" 200 OK\n",
      "INFO:     127.0.0.1:62276 - \"DELETE /bookdb?id=2 HTTP/1.1\" 404 Not Found\n",
      "INFO:     127.0.0.1:62277 - \"GET /bookdb HTTP/1.1\" 200 OK\n",
      "INFO:     127.0.0.1:62279 - \"PUT /bookdb HTTP/1.1\" 200 OK\n",
      "INFO:     127.0.0.1:62279 - \"GET /bookdb HTTP/1.1\" 200 OK\n",
      "INFO:     127.0.0.1:62282 - \"POST /bookdb HTTP/1.1\" 200 OK\n",
      "INFO:     127.0.0.1:62283 - \"GET /bookdb HTTP/1.1\" 200 OK\n",
      "INFO:     127.0.0.1:62293 - \"POST /bookdb HTTP/1.1\" 200 OK\n",
      "INFO:     127.0.0.1:62293 - \"GET /bookdb HTTP/1.1\" 200 OK\n",
      "INFO:     127.0.0.1:62344 - \"PUT /bookdb HTTP/1.1\" 200 OK\n",
      "INFO:     127.0.0.1:62346 - \"GET /bookdb HTTP/1.1\" 200 OK\n",
      "INFO:     127.0.0.1:62359 - \"POST /bookdb HTTP/1.1\" 200 OK\n",
      "INFO:     127.0.0.1:62359 - \"GET /bookdb HTTP/1.1\" 200 OK\n",
      "INFO:     127.0.0.1:62361 - \"POST /bookdb HTTP/1.1\" 200 OK\n",
      "INFO:     127.0.0.1:62362 - \"GET /bookdb HTTP/1.1\" 200 OK\n",
      "INFO:     127.0.0.1:62371 - \"PUT /bookdb HTTP/1.1\" 200 OK\n",
      "INFO:     127.0.0.1:62372 - \"GET /bookdb HTTP/1.1\" 200 OK\n",
      "INFO:     127.0.0.1:62380 - \"DELETE /bookdb?id=3 HTTP/1.1\" 200 OK\n",
      "INFO:     127.0.0.1:62382 - \"GET /bookdb HTTP/1.1\" 200 OK\n"
     ]
    },
    {
     "name": "stderr",
     "output_type": "stream",
     "text": [
      "INFO:     Shutting down\n",
      "INFO:     Waiting for application shutdown.\n",
      "INFO:     Application shutdown complete.\n",
      "INFO:     Finished server process [7060]\n"
     ]
    }
   ],
   "source": [
    "import asyncio\n",
    "import uvicorn\n",
    "\n",
    "config = uvicorn.Config(app)\n",
    "sever = uvicorn.Server(config)\n",
    "await sever.serve()"
   ]
  }
 ],
 "metadata": {
  "kernelspec": {
   "display_name": "Python 3",
   "language": "python",
   "name": "python3"
  },
  "language_info": {
   "codemirror_mode": {
    "name": "ipython",
    "version": 3
   },
   "file_extension": ".py",
   "mimetype": "text/x-python",
   "name": "python",
   "nbconvert_exporter": "python",
   "pygments_lexer": "ipython3",
   "version": "3.12.3"
  }
 },
 "nbformat": 4,
 "nbformat_minor": 2
}
