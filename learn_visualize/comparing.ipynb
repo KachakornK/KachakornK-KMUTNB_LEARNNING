{
 "cells": [
  {
   "cell_type": "code",
   "execution_count": 1,
   "metadata": {},
   "outputs": [],
   "source": [
    "import time\n",
    "import pandas as pd\n",
    "import numpy as np\n",
    "from sklearn.datasets import load_iris\n",
    "from sklearn.model_selection import train_test_split\n",
    "from sklearn.ensemble import RandomForestClassifier\n",
    "from sklearn.metrics import accuracy_score\n",
    "from sklearn.feature_selection import mutual_info_classif\n",
    "import matplotlib.pyplot as plt\n",
    "import seaborn as sns"
   ]
  },
  {
   "cell_type": "code",
   "execution_count": 2,
   "metadata": {},
   "outputs": [
    {
     "data": {
      "text/html": [
       "<div>\n",
       "<style scoped>\n",
       "    .dataframe tbody tr th:only-of-type {\n",
       "        vertical-align: middle;\n",
       "    }\n",
       "\n",
       "    .dataframe tbody tr th {\n",
       "        vertical-align: top;\n",
       "    }\n",
       "\n",
       "    .dataframe thead th {\n",
       "        text-align: right;\n",
       "    }\n",
       "</style>\n",
       "<table border=\"1\" class=\"dataframe\">\n",
       "  <thead>\n",
       "    <tr style=\"text-align: right;\">\n",
       "      <th></th>\n",
       "      <th>sepal_length</th>\n",
       "      <th>sepal_width</th>\n",
       "      <th>petal_length</th>\n",
       "      <th>petal_width</th>\n",
       "    </tr>\n",
       "  </thead>\n",
       "  <tbody>\n",
       "    <tr>\n",
       "      <th>0</th>\n",
       "      <td>5.1</td>\n",
       "      <td>3.5</td>\n",
       "      <td>1.4</td>\n",
       "      <td>0.2</td>\n",
       "    </tr>\n",
       "    <tr>\n",
       "      <th>1</th>\n",
       "      <td>4.9</td>\n",
       "      <td>3.0</td>\n",
       "      <td>1.4</td>\n",
       "      <td>0.2</td>\n",
       "    </tr>\n",
       "    <tr>\n",
       "      <th>2</th>\n",
       "      <td>4.7</td>\n",
       "      <td>3.2</td>\n",
       "      <td>1.3</td>\n",
       "      <td>0.2</td>\n",
       "    </tr>\n",
       "    <tr>\n",
       "      <th>3</th>\n",
       "      <td>4.6</td>\n",
       "      <td>3.1</td>\n",
       "      <td>1.5</td>\n",
       "      <td>0.2</td>\n",
       "    </tr>\n",
       "    <tr>\n",
       "      <th>4</th>\n",
       "      <td>5.0</td>\n",
       "      <td>3.6</td>\n",
       "      <td>1.4</td>\n",
       "      <td>0.2</td>\n",
       "    </tr>\n",
       "    <tr>\n",
       "      <th>...</th>\n",
       "      <td>...</td>\n",
       "      <td>...</td>\n",
       "      <td>...</td>\n",
       "      <td>...</td>\n",
       "    </tr>\n",
       "    <tr>\n",
       "      <th>145</th>\n",
       "      <td>6.7</td>\n",
       "      <td>3.0</td>\n",
       "      <td>5.2</td>\n",
       "      <td>2.3</td>\n",
       "    </tr>\n",
       "    <tr>\n",
       "      <th>146</th>\n",
       "      <td>6.3</td>\n",
       "      <td>2.5</td>\n",
       "      <td>5.0</td>\n",
       "      <td>1.9</td>\n",
       "    </tr>\n",
       "    <tr>\n",
       "      <th>147</th>\n",
       "      <td>6.5</td>\n",
       "      <td>3.0</td>\n",
       "      <td>5.2</td>\n",
       "      <td>2.0</td>\n",
       "    </tr>\n",
       "    <tr>\n",
       "      <th>148</th>\n",
       "      <td>6.2</td>\n",
       "      <td>3.4</td>\n",
       "      <td>5.4</td>\n",
       "      <td>2.3</td>\n",
       "    </tr>\n",
       "    <tr>\n",
       "      <th>149</th>\n",
       "      <td>5.9</td>\n",
       "      <td>3.0</td>\n",
       "      <td>5.1</td>\n",
       "      <td>1.8</td>\n",
       "    </tr>\n",
       "  </tbody>\n",
       "</table>\n",
       "<p>150 rows × 4 columns</p>\n",
       "</div>"
      ],
      "text/plain": [
       "     sepal_length  sepal_width  petal_length  petal_width\n",
       "0             5.1          3.5           1.4          0.2\n",
       "1             4.9          3.0           1.4          0.2\n",
       "2             4.7          3.2           1.3          0.2\n",
       "3             4.6          3.1           1.5          0.2\n",
       "4             5.0          3.6           1.4          0.2\n",
       "..            ...          ...           ...          ...\n",
       "145           6.7          3.0           5.2          2.3\n",
       "146           6.3          2.5           5.0          1.9\n",
       "147           6.5          3.0           5.2          2.0\n",
       "148           6.2          3.4           5.4          2.3\n",
       "149           5.9          3.0           5.1          1.8\n",
       "\n",
       "[150 rows x 4 columns]"
      ]
     },
     "execution_count": 2,
     "metadata": {},
     "output_type": "execute_result"
    }
   ],
   "source": [
    "# load dataset\n",
    "iris = load_iris()\n",
    "\n",
    "# convert dts and rename col\n",
    "df = pd.DataFrame(iris.data, columns=iris.feature_names)\n",
    "df.columns = [col.replace(' (cm)', '').replace(\" \", \"_\") for col in df.columns]\n",
    "df"
   ]
  },
  {
   "cell_type": "code",
   "execution_count": 3,
   "metadata": {},
   "outputs": [
    {
     "name": "stdout",
     "output_type": "stream",
     "text": [
      "<class 'pandas.core.frame.DataFrame'>\n",
      "RangeIndex: 150 entries, 0 to 149\n",
      "Data columns (total 4 columns):\n",
      " #   Column        Non-Null Count  Dtype  \n",
      "---  ------        --------------  -----  \n",
      " 0   sepal_length  150 non-null    float64\n",
      " 1   sepal_width   150 non-null    float64\n",
      " 2   petal_length  150 non-null    float64\n",
      " 3   petal_width   150 non-null    float64\n",
      "dtypes: float64(4)\n",
      "memory usage: 4.8 KB\n"
     ]
    }
   ],
   "source": [
    "df.info()"
   ]
  },
  {
   "cell_type": "code",
   "execution_count": 4,
   "metadata": {},
   "outputs": [],
   "source": [
    "# add species label 2 dataset\n",
    "df['species'] = iris.target\n",
    "df['species'] = df['species'].map({0: 'setosa', 1: 'versicolor', 2: 'virginica'})\n",
    "\n",
    "# feature n target\n",
    "X = df.drop('species', axis=1)\n",
    "y = df['species']\n",
    "\n",
    "# split dataset\n",
    "X_train, X_test, y_train, y_test = train_test_split(X, y, test_size=0.2, random_state=42)\n",
    "\n",
    "# init model\n",
    "clf = RandomForestClassifier(n_estimators=100, random_state=42)\n",
    "\n",
    "# train model\n",
    "clf.fit(X_train, y_train)\n",
    "\n",
    "# predict\n",
    "y_pred = clf.predict(X_test)"
   ]
  },
  {
   "cell_type": "code",
   "execution_count": 5,
   "metadata": {},
   "outputs": [
    {
     "name": "stdout",
     "output_type": "stream",
     "text": [
      "Feature used in full model: ['sepal_length', 'sepal_width', 'petal_length', 'petal_width']\n",
      "Train Time (Full Feature): 0.0905 s\n",
      "Prediction Time (Full Feature): 0.0040 s\n",
      "Accuracy (Full Feature): 1.0000\n",
      "\n"
     ]
    }
   ],
   "source": [
    "# measure training time\n",
    "start = time.time()\n",
    "clf.fit(X_train, y_train)\n",
    "time_full = time.time() - start\n",
    "\n",
    "# measure prediction time\n",
    "pred_start = time.time()\n",
    "y_pred = clf.predict(X_test)\n",
    "time_pred = time.time() - pred_start\n",
    "\n",
    "# accuracy\n",
    "accuracy = accuracy_score(y_test, y_pred)\n",
    "\n",
    "# result\n",
    "print(f'Feature used in full model: {X.columns.tolist()}')\n",
    "print(f'Train Time (Full Feature): {time_full:.4f} s')\n",
    "print(f'Prediction Time (Full Feature): {time_pred:.4f} s')\n",
    "print(f'Accuracy (Full Feature): {accuracy:.4f}\\n')"
   ]
  },
  {
   "cell_type": "code",
   "execution_count": null,
   "metadata": {},
   "outputs": [
    {
     "name": "stdout",
     "output_type": "stream",
     "text": [
      "Predicted Species: versicolor\n"
     ]
    },
    {
     "name": "stderr",
     "output_type": "stream",
     "text": [
      "c:\\Users\\mook\\anaconda3\\Lib\\site-packages\\sklearn\\base.py:493: UserWarning: X does not have valid feature names, but RandomForestClassifier was fitted with feature names\n",
      "  warnings.warn(\n"
     ]
    }
   ],
   "source": [
    "# example\n",
    "new_flower = np.array([[5.5, 3.0, 4.5, 1.3]])\n",
    "\n",
    "# predict\n",
    "new_pred = clf.predict(new_flower)\n",
    "print(f'Predicted Species: {new_pred[0]}')"
   ]
  },
  {
   "cell_type": "code",
   "execution_count": 12,
   "metadata": {},
   "outputs": [
    {
     "name": "stdout",
     "output_type": "stream",
     "text": [
      "Selected Features: ['petal_length', 'petal_width']\n",
      "Feature Selection Time: 0.1305 s\n",
      "Training Time (Selected Feature): 0.1126 s\n",
      "Prediction Time (Selected Feature): 0.0040 s\n",
      "Feature Selection Accuracy: 1.0000\n",
      "\n"
     ]
    }
   ],
   "source": [
    "# measure feature selection time\n",
    "fs_start_time = time.time()\n",
    "mi = mutual_info_classif(X_train, y_train)\n",
    "fs_time = time.time() - fs_start_time\n",
    "\n",
    "# store feature score\n",
    "mi_df = pd.DataFrame({'Feature': X.columns, 'Score': mi}).sort_values(by='Score',ascending=False)\n",
    "\n",
    "# select the top 2 most important features\n",
    "selected_features = mi_df['Feature'].iloc[:2].tolist()\n",
    "X_train_sel = X_train[selected_features]\n",
    "X_test_sel = X_test[selected_features]\n",
    "\n",
    "# measure training time\n",
    "train_start = time.time()\n",
    "clf.fit(X_train_sel, y_train)\n",
    "train_sel = time.time() - train_start\n",
    "\n",
    "# measure predict time\n",
    "pred_start = time.time()\n",
    "y_pred_sel = clf.predict(X_test_sel)\n",
    "time_pred_sel = time.time() - pred_start\n",
    "\n",
    "# accuracy\n",
    "accuracy_sel = accuracy_score(y_test, y_pred_sel)\n",
    "\n",
    "# result\n",
    "print(f'Selected Features: {selected_features}')\n",
    "print(f'Feature Selection Time: {fs_time:.4f} s')\n",
    "print(f'Training Time (Selected Feature): {train_sel:.4f} s')\n",
    "print(f'Prediction Time (Selected Feature): {time_pred_sel:.4f} s')\n",
    "print(f'Feature Selection Accuracy: {accuracy_sel:.4f}\\n')"
   ]
  },
  {
   "cell_type": "code",
   "execution_count": 13,
   "metadata": {},
   "outputs": [
    {
     "name": "stdout",
     "output_type": "stream",
     "text": [
      "\n",
      "--Model Performance Comparison--\n",
      "\n",
      "Feature used in full model: ['sepal_length', 'sepal_width', 'petal_length', 'petal_width']\n",
      "Train Time (Full Feature): 0.0905 s\n",
      "Prediction Time (Full Feature): 0.0040 s\n",
      "Accuracy (Full Feature): 1.0000\n",
      "\n",
      "Selected Features: ['petal_length', 'petal_width']\n",
      "Feature Selection Time: 0.1305 s\n",
      "Training Time (Selected Feature): 0.1126 s\n",
      "Prediction Time (Selected Feature): 0.0040 s\n",
      "Feature Selection Accuracy: 1.0000\n",
      "\n"
     ]
    }
   ],
   "source": [
    "# result\n",
    "print(f'\\n--Model Performance Comparison--\\n')\n",
    "\n",
    "print(f'Feature used in full model: {X.columns.tolist()}')\n",
    "print(f'Train Time (Full Feature): {time_full:.4f} s')\n",
    "print(f'Prediction Time (Full Feature): {time_pred:.4f} s')\n",
    "print(f'Accuracy (Full Feature): {accuracy:.4f}\\n')\n",
    "\n",
    "print(f'Selected Features: {selected_features}')\n",
    "print(f'Feature Selection Time: {fs_time:.4f} s')\n",
    "print(f'Training Time (Selected Feature): {train_sel:.4f} s')\n",
    "print(f'Prediction Time (Selected Feature): {time_pred_sel:.4f} s')\n",
    "print(f'Feature Selection Accuracy: {accuracy_sel:.4f}\\n')"
   ]
  },
  {
   "cell_type": "code",
   "execution_count": 14,
   "metadata": {},
   "outputs": [
    {
     "data": {
      "image/png": "[encoded data removed]",
      "text/plain": [
       "<Figure size 400x200 with 1 Axes>"
      ]
     },
     "metadata": {},
     "output_type": "display_data"
    }
   ],
   "source": [
    "# display feature score\n",
    "plt.figure(figsize=(4, 2))\n",
    "sns.barplot(x=mi_df['Feature'], y=mi_df['Score'])\n",
    "plt.title('Feature Importance using Mutual Information')\n",
    "plt.xticks(rotation=45)\n",
    "plt.show()"
   ]
  },
  {
   "cell_type": "code",
   "execution_count": 15,
   "metadata": {},
   "outputs": [
    {
     "name": "stdout",
     "output_type": "stream",
     "text": [
      "\n",
      "The reason why the selected model (using only ['petal_length', 'petal_width']) \n",
      "has the same accuracy as the full model (using all four features) but a slightly longer computational time \n",
      "is due to the following factors:\n",
      "\n",
      "1. Feature Importance in the Iris Dataset\n",
      "    - The Iris dataset is well-structured, and petal_length and petal_width are the most important features for classification.\n",
      "    - Setosa species is already well-separated from the other two using these two features.\n",
      "    - Versicolor vs. Virginica can also be mostly distinguished by these features, meaning that sepal_length and sepal_width do not add much new information.\n",
      "\n",
      "2. Why is the Time for Selected Features Slightly Higher?\n",
      "    - Expectation: The selected feature model should run faster due to fewer features.\n",
      "    - Reality: The time difference (~0.01 sec) is due to random fluctuations in execution time, such as:\n",
      "        - Memory allocation variations.\n",
      "        - CPU scheduling differences.\n",
      "        - The dataset being very small (150 samples), so reducing features does not significantly improve speed.\n",
      "\n",
      "3. Mutual Information & Feature Selection Justification\n",
      "    - Mutual Information correctly identified the two best features.\n",
      "    - The fact that accuracy remains the same confirms that removing sepal_length and sepal_width did not harm classification.\n",
      "\n",
      "4. Should You Always Use Feature Selection?\n",
      "    - For small datasets like Iris: It doesn’t significantly affect performance.\n",
      "    - For larger datasets: Reducing unnecessary features will speed up training, reduce overfitting, and improve interpretability.\n",
      "\n"
     ]
    }
   ],
   "source": [
    "explanation = \"\"\"\n",
    "The reason why the selected model (using only ['petal_length', 'petal_width']) \n",
    "has the same accuracy as the full model (using all four features) but a slightly longer computational time \n",
    "is due to the following factors:\n",
    "\n",
    "1. Feature Importance in the Iris Dataset\n",
    "    - The Iris dataset is well-structured, and petal_length and petal_width are the most important features for classification.\n",
    "    - Setosa species is already well-separated from the other two using these two features.\n",
    "    - Versicolor vs. Virginica can also be mostly distinguished by these features, meaning that sepal_length and sepal_width do not add much new information.\n",
    "\n",
    "2. Why is the Time for Selected Features Slightly Higher?\n",
    "    - Expectation: The selected feature model should run faster due to fewer features.\n",
    "    - Reality: The time difference (~0.01 sec) is due to random fluctuations in execution time, such as:\n",
    "        - Memory allocation variations.\n",
    "        - CPU scheduling differences.\n",
    "        - The dataset being very small (150 samples), so reducing features does not significantly improve speed.\n",
    "\n",
    "3. Mutual Information & Feature Selection Justification\n",
    "    - Mutual Information correctly identified the two best features.\n",
    "    - The fact that accuracy remains the same confirms that removing sepal_length and sepal_width did not harm classification.\n",
    "\n",
    "4. Should You Always Use Feature Selection?\n",
    "    - For small datasets like Iris: It doesn’t significantly affect performance.\n",
    "    - For larger datasets: Reducing unnecessary features will speed up training, reduce overfitting, and improve interpretability.\n",
    "\"\"\"\n",
    "\n",
    "print(explanation)"
   ]
  }
 ],
 "metadata": {
  "kernelspec": {
   "display_name": "base",
   "language": "python",
   "name": "python3"
  },
  "language_info": {
   "codemirror_mode": {
    "name": "ipython",
    "version": 3
   },
   "file_extension": ".py",
   "mimetype": "text/x-python",
   "name": "python",
   "nbconvert_exporter": "python",
   "pygments_lexer": "ipython3",
   "version": "3.12.4"
  }
 },
 "nbformat": 4,
 "nbformat_minor": 2
}
